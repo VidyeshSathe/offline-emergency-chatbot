{
 "cells": [
  {
   "cell_type": "code",
   "execution_count": 1,
   "id": "bb0d55e2",
   "metadata": {},
   "outputs": [],
   "source": [
    "import pandas as pd\n",
    "import sqlite3\n"
   ]
  },
  {
   "cell_type": "code",
   "execution_count": 2,
   "id": "d677d940",
   "metadata": {},
   "outputs": [
    {
     "data": {
      "text/plain": [
       "(                 Emergency Type  \\\n",
       " 0                           Cpr   \n",
       " 1                       Choking   \n",
       " 2                      Bleeding   \n",
       " 3  Burns (1St, 2Nd, 3Rd Degree)   \n",
       " 4      Fractures & Broken Bones   \n",
       " \n",
       "                                             Symptoms  \\\n",
       " 0  Unconscious, no breathing or gasping, no detec...   \n",
       " 1  Unable to speak or breathe, silent coughing at...   \n",
       " 2  Visible open wound, active bleeding that won't...   \n",
       " 3  Painful red or blistered skin, peeling or char...   \n",
       " 4  Sudden pain after impact, deformity in limb, i...   \n",
       " \n",
       "                      When to Call Emergency Services  \\\n",
       " 0          Immediately call 000 before starting CPR.   \n",
       " 1  Call 000 if airway is fully blocked or person ...   \n",
       " 2  Call 000 if bleeding doesn't stop within 10 mi...   \n",
       " 3  Call 000 for burns larger than a coin, deep, o...   \n",
       " 4  Call 000 for open fractures, suspected spine o...   \n",
       " \n",
       "                                    Immediate Actions  \\\n",
       " 0  1. Ensure the area is safe.\\n2. Check response...   \n",
       " 1  1. Ask if they can speak or cough.\\n2. Give 5 ...   \n",
       " 2  1. Apply firm pressure with clean cloth.\\n2. E...   \n",
       " 3  1. Cool with running water for 20 minutes.\\n2....   \n",
       " 4  1. Immobilize the injured limb using a splint ...   \n",
       " \n",
       "                                      Do's and Don'ts  \\\n",
       " 0   Start CPR immediately.  Don't delay or give u...   \n",
       " 1   Encourage coughing if possible.  Don't slap c...   \n",
       " 2   Apply firm pressure.  Don't remove soaked dre...   \n",
       " 3   Cool with water.  Don't pop blisters or apply...   \n",
       " 4   Immobilize gently.  Don't attempt to realign ...   \n",
       " \n",
       "                               Follow-Up Instructions Severity Level  \\\n",
       " 0  Transport to hospital even if the person regai...         Severe   \n",
       " 1  Seek medical evaluation even if object is disl...         Severe   \n",
       " 2             Watch for signs of shock or infection.         Severe   \n",
       " 3  Keep covered and clean. Watch for signs of inf...       Moderate   \n",
       " 4              Seek X-ray and orthopedic evaluation.       Moderate   \n",
       " \n",
       "                                Clarification Prompts  \\\n",
       " 0  Is the person unresponsive with no breathing o...   \n",
       " 1  Is the person conscious but unable to speak or...   \n",
       " 2  Is there heavy bleeding that won't stop with p...   \n",
       " 3  Was the skin exposed to high heat or flame, re...   \n",
       " 4  Is the bone visibly out of place or movement e...   \n",
       " \n",
       "                                    Keywords/Triggers  \\\n",
       " 0  no pulse, stopped breathing, need chest compre...   \n",
       " 1  choking on food, can't breathe but awake, obje...   \n",
       " 2  cut, bleeding, laceration, slashed skin, activ...   \n",
       " 3  hot surface burn, scald injury, skin blister f...   \n",
       " 4  fracture, broken limb, bone deformity, limb im...   \n",
       " \n",
       "                                           Body Parts  \n",
       " 0                                       mouth, chest  \n",
       " 1                                     Throat, Airway  \n",
       " 2                  hand, finger, arm, leg, foot, toe  \n",
       " 3                  hand, arm, foot, leg, finger, toe  \n",
       " 4  arm, leg, toe, foot, wrist, ankle, knee, shoul...  ,\n",
       "                     Phrase     Intent\n",
       " 0     need cpr steps quick  emergency\n",
       " 1    how perform cpr adult  emergency\n",
       " 2  baby chokin cant breath  emergency\n",
       " 3  heimlich manoeuvre help  emergency\n",
       " 4    bleeding lot from cut  emergency)"
      ]
     },
     "execution_count": 2,
     "metadata": {},
     "output_type": "execute_result"
    }
   ],
   "source": [
    "# Load the First Aid and Intent CSV files\n",
    "first_aid_df = pd.read_csv(\"First_Aid_Database.csv\")\n",
    "intent_df = pd.read_csv(\"dataset_intent.csv\")\n",
    "\n",
    "# Preview\n",
    "first_aid_df.head(), intent_df.head()\n"
   ]
  },
  {
   "cell_type": "code",
   "execution_count": 3,
   "id": "d4e78dfb",
   "metadata": {},
   "outputs": [
    {
     "name": "stdout",
     "output_type": "stream",
     "text": [
      "✅ SQLite database 'first_aid.db' created successfully.\n"
     ]
    }
   ],
   "source": [
    "# Create SQLite database and insert both tables\n",
    "conn = sqlite3.connect(\"first_aid.db\")\n",
    "\n",
    "first_aid_df.to_sql(\"first_aid_data\", conn, if_exists=\"replace\", index=False)\n",
    "intent_df.to_sql(\"intent_data\", conn, if_exists=\"replace\", index=False)\n",
    "\n",
    "conn.commit()\n",
    "conn.close()\n",
    "\n",
    "print(\"✅ SQLite database 'first_aid.db' created successfully.\")\n"
   ]
  }
 ],
 "metadata": {
  "kernelspec": {
   "display_name": "Python 3",
   "language": "python",
   "name": "python3"
  },
  "language_info": {
   "codemirror_mode": {
    "name": "ipython",
    "version": 3
   },
   "file_extension": ".py",
   "mimetype": "text/x-python",
   "name": "python",
   "nbconvert_exporter": "python",
   "pygments_lexer": "ipython3",
   "version": "3.12.8"
  }
 },
 "nbformat": 4,
 "nbformat_minor": 5
}
